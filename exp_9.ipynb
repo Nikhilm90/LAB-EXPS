{
  "nbformat": 4,
  "nbformat_minor": 0,
  "metadata": {
    "colab": {
      "provenance": [],
      "authorship_tag": "ABX9TyMEcjKhkKFmrqIAfdw8vmOS",
      "include_colab_link": true
    },
    "kernelspec": {
      "name": "python3",
      "display_name": "Python 3"
    },
    "language_info": {
      "name": "python"
    }
  },
  "cells": [
    {
      "cell_type": "markdown",
      "metadata": {
        "id": "view-in-github",
        "colab_type": "text"
      },
      "source": [
        "<a href=\"https://colab.research.google.com/github/Nikhilm90/LAB-EXPS/blob/main/exp_9.ipynb\" target=\"_parent\"><img src=\"https://colab.research.google.com/assets/colab-badge.svg\" alt=\"Open In Colab\"/></a>"
      ]
    },
    {
      "cell_type": "code",
      "execution_count": 2,
      "metadata": {
        "colab": {
          "base_uri": "https://localhost:8080/"
        },
        "id": "FlGbs14Klptt",
        "outputId": "b47b3aba-c505-4177-c98c-1524cf6e0278"
      },
      "outputs": [
        {
          "output_type": "stream",
          "name": "stdout",
          "text": [
            "Epoch 1/10\n",
            "300/300 - 47s - loss: 0.3458 - accuracy: 0.8948 - val_loss: 0.0642 - val_accuracy: 0.9792 - 47s/epoch - 156ms/step\n",
            "Epoch 2/10\n",
            "300/300 - 42s - loss: 0.1046 - accuracy: 0.9697 - val_loss: 0.0480 - val_accuracy: 0.9850 - 42s/epoch - 141ms/step\n",
            "Epoch 3/10\n",
            "300/300 - 42s - loss: 0.0786 - accuracy: 0.9773 - val_loss: 0.0388 - val_accuracy: 0.9870 - 42s/epoch - 139ms/step\n",
            "Epoch 4/10\n",
            "300/300 - 43s - loss: 0.0647 - accuracy: 0.9808 - val_loss: 0.0342 - val_accuracy: 0.9891 - 43s/epoch - 142ms/step\n",
            "Epoch 5/10\n",
            "300/300 - 43s - loss: 0.0557 - accuracy: 0.9829 - val_loss: 0.0287 - val_accuracy: 0.9895 - 43s/epoch - 142ms/step\n",
            "Epoch 6/10\n",
            "300/300 - 43s - loss: 0.0490 - accuracy: 0.9855 - val_loss: 0.0290 - val_accuracy: 0.9889 - 43s/epoch - 142ms/step\n",
            "Epoch 7/10\n",
            "300/300 - 42s - loss: 0.0418 - accuracy: 0.9875 - val_loss: 0.0262 - val_accuracy: 0.9912 - 42s/epoch - 139ms/step\n",
            "Epoch 8/10\n",
            "300/300 - 45s - loss: 0.0393 - accuracy: 0.9880 - val_loss: 0.0237 - val_accuracy: 0.9929 - 45s/epoch - 150ms/step\n",
            "Epoch 9/10\n",
            "300/300 - 41s - loss: 0.0350 - accuracy: 0.9894 - val_loss: 0.0240 - val_accuracy: 0.9918 - 41s/epoch - 138ms/step\n",
            "Epoch 10/10\n",
            "300/300 - 43s - loss: 0.0319 - accuracy: 0.9901 - val_loss: 0.0222 - val_accuracy: 0.9925 - 43s/epoch - 145ms/step\n",
            "Test accuracy: 99.25%\n"
          ]
        }
      ],
      "source": [
        "import tensorflow as tf\n",
        "from tensorflow.keras.datasets import mnist\n",
        "from tensorflow.keras.models import Sequential\n",
        "from tensorflow.keras.layers import Conv2D, MaxPooling2D, Flatten, Dense, Dropout\n",
        "from tensorflow.keras.utils import to_categorical\n",
        "# Load and preprocess the dataset\n",
        "(x_train, y_train), (x_test, y_test) = mnist.load_data()\n",
        "x_train = x_train.reshape(x_train.shape[0], 28, 28, 1).astype('float32') / 255\n",
        "x_test = x_test.reshape(x_test.shape[0], 28, 28, 1).astype('float32') / 255\n",
        "y_train = to_categorical(y_train, 10)\n",
        "y_test = to_categorical(y_test, 10)\n",
        "# Build the CNN model\n",
        "model = Sequential()\n",
        "model.add(Conv2D(32, kernel_size=(3, 3), activation='relu',\n",
        "input_shape=(28, 28, 1)))\n",
        "model.add(MaxPooling2D(pool_size=(2, 2)))\n",
        "model.add(Conv2D(64, kernel_size=(3, 3), activation='relu'))\n",
        "model.add(MaxPooling2D(pool_size=(2, 2)))\n",
        "model.add(Flatten())\n",
        "model.add(Dense(128, activation='relu'))\n",
        "model.add(Dropout(0.5))\n",
        "model.add(Dense(10, activation='softmax'))\n",
        "# Compile the model\n",
        "model.compile(loss='categorical_crossentropy', optimizer='adam',\n",
        "metrics=['accuracy'])\n",
        "# Train the model\n",
        "model.fit(x_train, y_train, validation_data=(x_test, y_test), epochs=10,\n",
        "batch_size=200, verbose=2)\n",
        "# Evaluate the model\n",
        "test_loss, test_acc = model.evaluate(x_test, y_test, verbose=0)\n",
        "print(f'Test accuracy: {test_acc*100:.2f}%')"
      ]
    }
  ]
}