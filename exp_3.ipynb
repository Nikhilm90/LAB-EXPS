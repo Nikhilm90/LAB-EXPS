{
  "nbformat": 4,
  "nbformat_minor": 0,
  "metadata": {
    "colab": {
      "provenance": [],
      "authorship_tag": "ABX9TyN2NSWfqX0TpyNi6+qaTwEH",
      "include_colab_link": true
    },
    "kernelspec": {
      "name": "python3",
      "display_name": "Python 3"
    },
    "language_info": {
      "name": "python"
    }
  },
  "cells": [
    {
      "cell_type": "markdown",
      "metadata": {
        "id": "view-in-github",
        "colab_type": "text"
      },
      "source": [
        "<a href=\"https://colab.research.google.com/github/Nikhilm90/LAB-EXPS/blob/main/exp_3.ipynb\" target=\"_parent\"><img src=\"https://colab.research.google.com/assets/colab-badge.svg\" alt=\"Open In Colab\"/></a>"
      ]
    },
    {
      "cell_type": "code",
      "execution_count": 1,
      "metadata": {
        "colab": {
          "base_uri": "https://localhost:8080/"
        },
        "id": "mVMjk33ixhQb",
        "outputId": "daeb53d1-5d91-4470-efa3-2f170f0946b9"
      },
      "outputs": [
        {
          "output_type": "stream",
          "name": "stdout",
          "text": [
            "Epoch 1/10\n",
            "20/20 [==============================] - 3s 42ms/step - loss: 0.6753 - accuracy: 0.5016 - val_loss: 0.6507 - val_accuracy: 0.5938\n",
            "Epoch 2/10\n",
            "20/20 [==============================] - 0s 10ms/step - loss: 0.6537 - accuracy: 0.5297 - val_loss: 0.6238 - val_accuracy: 0.6125\n",
            "Epoch 3/10\n",
            "20/20 [==============================] - 0s 17ms/step - loss: 0.6346 - accuracy: 0.5703 - val_loss: 0.6038 - val_accuracy: 0.6375\n",
            "Epoch 4/10\n",
            "20/20 [==============================] - 0s 15ms/step - loss: 0.6167 - accuracy: 0.6094 - val_loss: 0.5847 - val_accuracy: 0.6562\n",
            "Epoch 5/10\n",
            "20/20 [==============================] - 0s 11ms/step - loss: 0.5985 - accuracy: 0.6594 - val_loss: 0.5680 - val_accuracy: 0.6875\n",
            "Epoch 6/10\n",
            "20/20 [==============================] - 0s 16ms/step - loss: 0.5794 - accuracy: 0.6906 - val_loss: 0.5483 - val_accuracy: 0.7250\n",
            "Epoch 7/10\n",
            "20/20 [==============================] - 1s 46ms/step - loss: 0.5588 - accuracy: 0.7359 - val_loss: 0.5291 - val_accuracy: 0.7563\n",
            "Epoch 8/10\n",
            "20/20 [==============================] - 0s 18ms/step - loss: 0.5379 - accuracy: 0.7812 - val_loss: 0.5101 - val_accuracy: 0.8188\n",
            "Epoch 9/10\n",
            "20/20 [==============================] - 0s 20ms/step - loss: 0.5155 - accuracy: 0.8047 - val_loss: 0.4883 - val_accuracy: 0.8562\n",
            "Epoch 10/10\n",
            "20/20 [==============================] - 0s 18ms/step - loss: 0.4928 - accuracy: 0.8172 - val_loss: 0.4667 - val_accuracy: 0.8687\n",
            "7/7 [==============================] - 1s 12ms/step\n",
            "Test accuracy: 0.8250\n"
          ]
        }
      ],
      "source": [
        "import numpy as np\n",
        "import tensorflow as tf\n",
        "from tensorflow.keras.models import Sequential\n",
        "from tensorflow.keras.layers import Dense,Input\n",
        "from sklearn.model_selection import train_test_split\n",
        "from sklearn.metrics import accuracy_score\n",
        "np.random.seed(42)\n",
        "X = np.random.rand(1000, 2)\n",
        "y = (X[:, 0] + X[:, 1] > 1).astype(int)\n",
        "X_train, X_test, y_train, y_test = train_test_split(X, y, test_size=0.2,\n",
        "random_state=42)\n",
        "model = Sequential([Input(shape=(2)),Dense(64, activation='relu'),Dense(1,\n",
        "activation='sigmoid')])\n",
        "model.compile(optimizer='adam',loss='binary_crossentropy',metrics=['accuracy'])\n",
        "model.fit(X_train, y_train, epochs=10, batch_size=32, validation_split=0.2)\n",
        "y_pred = model.predict(X_test)\n",
        "y_pred_binary = (y_pred > 0.5).astype(int)\n",
        "test_accuracy = accuracy_score(y_test, y_pred_binary)\n",
        "print(f\"Test accuracy: {test_accuracy:.4f}\")\n"
      ]
    }
  ]
}